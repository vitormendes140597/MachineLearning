{
 "cells": [
  {
   "cell_type": "code",
   "execution_count": 9,
   "metadata": {},
   "outputs": [],
   "source": [
    "import pandas as pd\n",
    "from sklearn import datasets\n",
    "import numpy as np"
   ]
  },
  {
   "cell_type": "code",
   "execution_count": 3,
   "metadata": {},
   "outputs": [],
   "source": [
    "iris = datasets.load_iris()"
   ]
  },
  {
   "cell_type": "code",
   "execution_count": 19,
   "metadata": {},
   "outputs": [],
   "source": [
    "df = pd.DataFrame({'species':iris.target})"
   ]
  },
  {
   "cell_type": "code",
   "execution_count": 21,
   "metadata": {},
   "outputs": [],
   "source": [
    "map_species = {\n",
    "    0: iris.target_names[0],\n",
    "    1: iris.target_names[1],\n",
    "    2: iris.target_names[2]\n",
    "}\n",
    "\n",
    "df['species'] = df['species'].map(map_species)\n",
    "df['letter'] = df['species'].apply(lambda x : np.random.choice(['a','b','c']))"
   ]
  },
  {
   "cell_type": "code",
   "execution_count": 29,
   "metadata": {},
   "outputs": [
    {
     "data": {
      "text/html": [
       "<div>\n",
       "<style>\n",
       "    .dataframe thead tr:only-child th {\n",
       "        text-align: right;\n",
       "    }\n",
       "\n",
       "    .dataframe thead th {\n",
       "        text-align: left;\n",
       "    }\n",
       "\n",
       "    .dataframe tbody tr th {\n",
       "        vertical-align: top;\n",
       "    }\n",
       "</style>\n",
       "<table border=\"1\" class=\"dataframe\">\n",
       "  <thead>\n",
       "    <tr style=\"text-align: right;\">\n",
       "      <th>letter</th>\n",
       "      <th>a</th>\n",
       "      <th>b</th>\n",
       "      <th>c</th>\n",
       "      <th>All</th>\n",
       "    </tr>\n",
       "    <tr>\n",
       "      <th>species</th>\n",
       "      <th></th>\n",
       "      <th></th>\n",
       "      <th></th>\n",
       "      <th></th>\n",
       "    </tr>\n",
       "  </thead>\n",
       "  <tbody>\n",
       "    <tr>\n",
       "      <th>setosa</th>\n",
       "      <td>11</td>\n",
       "      <td>19</td>\n",
       "      <td>20</td>\n",
       "      <td>50</td>\n",
       "    </tr>\n",
       "    <tr>\n",
       "      <th>versicolor</th>\n",
       "      <td>13</td>\n",
       "      <td>20</td>\n",
       "      <td>17</td>\n",
       "      <td>50</td>\n",
       "    </tr>\n",
       "    <tr>\n",
       "      <th>virginica</th>\n",
       "      <td>14</td>\n",
       "      <td>19</td>\n",
       "      <td>17</td>\n",
       "      <td>50</td>\n",
       "    </tr>\n",
       "    <tr>\n",
       "      <th>All</th>\n",
       "      <td>38</td>\n",
       "      <td>58</td>\n",
       "      <td>54</td>\n",
       "      <td>150</td>\n",
       "    </tr>\n",
       "  </tbody>\n",
       "</table>\n",
       "</div>"
      ],
      "text/plain": [
       "letter       a   b   c  All\n",
       "species                    \n",
       "setosa      11  19  20   50\n",
       "versicolor  13  20  17   50\n",
       "virginica   14  19  17   50\n",
       "All         38  58  54  150"
      ]
     },
     "execution_count": 29,
     "metadata": {},
     "output_type": "execute_result"
    }
   ],
   "source": [
    "cross = pd.crosstab(df.species,df.letter, margins=True)\n",
    "cross"
   ]
  },
  {
   "cell_type": "code",
   "execution_count": 94,
   "metadata": {},
   "outputs": [
    {
     "name": "stdout",
     "output_type": "stream",
     "text": [
      "Probabilidade de ser A = 0.25\n",
      "Probabilidade de ser C = 0.36\n",
      "Probabilidade de ser A | setosa = 0.22\n",
      "\n",
      "Teorema de Bayes \n",
      "\n",
      "Evento A = Ser letra C\n",
      "Evento B = Ser versicolor\n",
      "Teorema de Bayes -> P(B|A) = P(A|B) * P(B) / P(A)\n",
      "Probabilidade do evento A = 0.36\n",
      "Probabilidade do evento B = 0.33\n",
      "Probabilidade de ser C dado que é versicolor = 0.34\n",
      "Probabilidade de ser versicolor sabendo que é C = 0.31\n"
     ]
    }
   ],
   "source": [
    "# Probabilidade de ser 'a'\n",
    "print(\"Probabilidade de ser A = \" + str(np.round(38/150, decimals=2)))\n",
    "\n",
    "# Probabilidade de ser 'c'\n",
    "print(\"Probabilidade de ser C = \" + str(np.round(54/150, decimals=2)))\n",
    "\n",
    "# Probabilidade de ser 'a'\n",
    "print(\"Probabilidade de ser A | setosa = \" + str(np.round(11/50, decimals=2)))\n",
    "\n",
    "\n",
    "\n",
    "print(\"\\nTeorema de Bayes \\n\")\n",
    "print(\"Evento A = Ser letra C\")\n",
    "print(\"Evento B = Ser versicolor\")\n",
    "print(\"Teorema de Bayes -> P(B|A) = P(A|B) * P(B) / P(A)\")\n",
    "\n",
    "# Probabilidade do evento A\n",
    "print(\"Probabilidade do evento A = \" + str(np.round(54/150, decimals=2)))\n",
    "print(\"Probabilidade do evento B = \" + str(np.round(50/150, decimals=2)))\n",
    "print(\"Probabilidade de ser C dado que é versicolor = \" + str(np.round(17/50, decimals=2)))\n",
    "print(\"Probabilidade de ser versicolor sabendo que é C = \" + str(np.round((0.34 * 0.33) / 0.36, decimals=2)))"
   ]
  },
  {
   "cell_type": "markdown",
   "metadata": {},
   "source": [
    "# Minha implementação"
   ]
  },
  {
   "cell_type": "code",
   "execution_count": 154,
   "metadata": {},
   "outputs": [],
   "source": [
    "class NaiveBayesClassifier:\n",
    "    \n",
    "    def __init__(self):\n",
    "        self.fit_obj = {}\n",
    "        \n",
    "    def fit(self,data,target):\n",
    "        columns = data.columns\n",
    "        self.target = np.unique(target)\n",
    "        data['target'] = target\n",
    "        \n",
    "        for c in columns:\n",
    "            cross = pd.crosstab(data['target'],data[c], margins=True)\n",
    "            self.fit_obj[c] = cross\n",
    "    \n",
    "    def predict(self,data):\n",
    "        columns = data.columns\n",
    "        predict_ = []\n",
    "        \n",
    "        for c in columns:\n",
    "            fitted = self.fit_obj[c]\n",
    "            values = data[c]\n",
    "            series = pd.Series()\n",
    "            \n",
    "            for v in values:\n",
    "                for t in self.target:\n",
    "                    x = fitted[v].loc[t]\n",
    "                    y = fitted[v].loc['All']\n",
    "                    prob = x / y\n",
    "                    series[t] = prob\n",
    "                result = series.argmax()\n",
    "                predict_.append(result)\n",
    "        return(predict_)"
   ]
  },
  {
   "cell_type": "code",
   "execution_count": 155,
   "metadata": {},
   "outputs": [],
   "source": [
    "classifier = NaiveBayesClassifier()\n",
    "classifier.fit(df[['letter']],target=df['species'].values)"
   ]
  },
  {
   "cell_type": "code",
   "execution_count": 157,
   "metadata": {},
   "outputs": [],
   "source": [
    "pred = classifier.predict(df[['letter']])"
   ]
  },
  {
   "cell_type": "markdown",
   "metadata": {},
   "source": [
    "# Scikit Learn Implementação"
   ]
  },
  {
   "cell_type": "code",
   "execution_count": 167,
   "metadata": {},
   "outputs": [],
   "source": [
    "from sklearn.naive_bayes import GaussianNB\n",
    "clf = GaussianNB()"
   ]
  },
  {
   "cell_type": "code",
   "execution_count": 169,
   "metadata": {},
   "outputs": [
    {
     "data": {
      "text/plain": [
       "GaussianNB(priors=None)"
      ]
     },
     "execution_count": 169,
     "metadata": {},
     "output_type": "execute_result"
    }
   ],
   "source": [
    "map_letter = {\n",
    "    'a':1,\n",
    "    'b':2,\n",
    "    'c':3\n",
    "}\n",
    "input_ = df['letter'].map(map_letter)\n",
    "clf.fit(X=input_.values.reshape(-1,1),y=df['species'])\n",
    "pred2 = clf.predict(input_.values.reshape(-1,1))"
   ]
  },
  {
   "cell_type": "code",
   "execution_count": 171,
   "metadata": {},
   "outputs": [],
   "source": [
    "df['pred2'] = pred2"
   ]
  },
  {
   "cell_type": "code",
   "execution_count": 175,
   "metadata": {},
   "outputs": [
    {
     "data": {
      "text/html": [
       "<div>\n",
       "<style>\n",
       "    .dataframe thead tr:only-child th {\n",
       "        text-align: right;\n",
       "    }\n",
       "\n",
       "    .dataframe thead th {\n",
       "        text-align: left;\n",
       "    }\n",
       "\n",
       "    .dataframe tbody tr th {\n",
       "        vertical-align: top;\n",
       "    }\n",
       "</style>\n",
       "<table border=\"1\" class=\"dataframe\">\n",
       "  <thead>\n",
       "    <tr style=\"text-align: right;\">\n",
       "      <th></th>\n",
       "      <th>species</th>\n",
       "      <th>letter</th>\n",
       "      <th>pred</th>\n",
       "      <th>pred2</th>\n",
       "    </tr>\n",
       "  </thead>\n",
       "  <tbody>\n",
       "    <tr>\n",
       "      <th>0</th>\n",
       "      <td>setosa</td>\n",
       "      <td>b</td>\n",
       "      <td>versicolor</td>\n",
       "      <td>versicolor</td>\n",
       "    </tr>\n",
       "    <tr>\n",
       "      <th>1</th>\n",
       "      <td>setosa</td>\n",
       "      <td>c</td>\n",
       "      <td>setosa</td>\n",
       "      <td>setosa</td>\n",
       "    </tr>\n",
       "    <tr>\n",
       "      <th>2</th>\n",
       "      <td>setosa</td>\n",
       "      <td>b</td>\n",
       "      <td>versicolor</td>\n",
       "      <td>versicolor</td>\n",
       "    </tr>\n",
       "    <tr>\n",
       "      <th>3</th>\n",
       "      <td>setosa</td>\n",
       "      <td>b</td>\n",
       "      <td>versicolor</td>\n",
       "      <td>versicolor</td>\n",
       "    </tr>\n",
       "    <tr>\n",
       "      <th>4</th>\n",
       "      <td>setosa</td>\n",
       "      <td>c</td>\n",
       "      <td>setosa</td>\n",
       "      <td>setosa</td>\n",
       "    </tr>\n",
       "  </tbody>\n",
       "</table>\n",
       "</div>"
      ],
      "text/plain": [
       "  species letter        pred       pred2\n",
       "0  setosa      b  versicolor  versicolor\n",
       "1  setosa      c      setosa      setosa\n",
       "2  setosa      b  versicolor  versicolor\n",
       "3  setosa      b  versicolor  versicolor\n",
       "4  setosa      c      setosa      setosa"
      ]
     },
     "execution_count": 175,
     "metadata": {},
     "output_type": "execute_result"
    }
   ],
   "source": [
    "df.head()"
   ]
  },
  {
   "cell_type": "code",
   "execution_count": 176,
   "metadata": {},
   "outputs": [
    {
     "data": {
      "text/html": [
       "<div>\n",
       "<style>\n",
       "    .dataframe thead tr:only-child th {\n",
       "        text-align: right;\n",
       "    }\n",
       "\n",
       "    .dataframe thead th {\n",
       "        text-align: left;\n",
       "    }\n",
       "\n",
       "    .dataframe tbody tr th {\n",
       "        vertical-align: top;\n",
       "    }\n",
       "</style>\n",
       "<table border=\"1\" class=\"dataframe\">\n",
       "  <thead>\n",
       "    <tr style=\"text-align: right;\">\n",
       "      <th>letter</th>\n",
       "      <th>a</th>\n",
       "      <th>b</th>\n",
       "      <th>c</th>\n",
       "      <th>All</th>\n",
       "    </tr>\n",
       "    <tr>\n",
       "      <th>species</th>\n",
       "      <th></th>\n",
       "      <th></th>\n",
       "      <th></th>\n",
       "      <th></th>\n",
       "    </tr>\n",
       "  </thead>\n",
       "  <tbody>\n",
       "    <tr>\n",
       "      <th>setosa</th>\n",
       "      <td>11</td>\n",
       "      <td>19</td>\n",
       "      <td>20</td>\n",
       "      <td>50</td>\n",
       "    </tr>\n",
       "    <tr>\n",
       "      <th>versicolor</th>\n",
       "      <td>13</td>\n",
       "      <td>20</td>\n",
       "      <td>17</td>\n",
       "      <td>50</td>\n",
       "    </tr>\n",
       "    <tr>\n",
       "      <th>virginica</th>\n",
       "      <td>14</td>\n",
       "      <td>19</td>\n",
       "      <td>17</td>\n",
       "      <td>50</td>\n",
       "    </tr>\n",
       "    <tr>\n",
       "      <th>All</th>\n",
       "      <td>38</td>\n",
       "      <td>58</td>\n",
       "      <td>54</td>\n",
       "      <td>150</td>\n",
       "    </tr>\n",
       "  </tbody>\n",
       "</table>\n",
       "</div>"
      ],
      "text/plain": [
       "letter       a   b   c  All\n",
       "species                    \n",
       "setosa      11  19  20   50\n",
       "versicolor  13  20  17   50\n",
       "virginica   14  19  17   50\n",
       "All         38  58  54  150"
      ]
     },
     "execution_count": 176,
     "metadata": {},
     "output_type": "execute_result"
    }
   ],
   "source": [
    "cross"
   ]
  },
  {
   "cell_type": "code",
   "execution_count": 177,
   "metadata": {},
   "outputs": [
    {
     "name": "stdout",
     "output_type": "stream",
     "text": [
      "0.3275862068965517\n",
      "0.3448275862068966\n",
      "0.3275862068965517\n"
     ]
    }
   ],
   "source": [
    "print(19/58)\n",
    "print(20/58)\n",
    "print(19/58)"
   ]
  }
 ],
 "metadata": {
  "kernelspec": {
   "display_name": "Python 3",
   "language": "python",
   "name": "python3"
  },
  "language_info": {
   "codemirror_mode": {
    "name": "ipython",
    "version": 3
   },
   "file_extension": ".py",
   "mimetype": "text/x-python",
   "name": "python",
   "nbconvert_exporter": "python",
   "pygments_lexer": "ipython3",
   "version": "3.6.3"
  }
 },
 "nbformat": 4,
 "nbformat_minor": 2
}
